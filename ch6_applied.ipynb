{
 "cells": [
  {
   "cell_type": "markdown",
   "metadata": {},
   "source": [
    "`page 262`\n",
    "\n",
    "# Chapter 6\n",
    "\n",
    "## Exercise 8"
   ]
  },
  {
   "cell_type": "code",
   "execution_count": 188,
   "metadata": {},
   "outputs": [],
   "source": [
    "import pandas as pd\n",
    "import numpy as np\n",
    "import matplotlib.pyplot as plt\n",
    "import seaborn as sns\n",
    "import random\n",
    "import itertools\n",
    "from operator import itemgetter\n",
    "\n",
    "from sklearn.linear_model import LinearRegression, LassoCV, Lasso, Ridge, RidgeCV\n",
    "from sklearn.preprocessing import PolynomialFeatures, LabelEncoder, OneHotEncoder, scale, StandardScaler\n",
    "from sklearn.pipeline import Pipeline\n",
    "from sklearn.model_selection import train_test_split, KFold, cross_val_score, cross_val_predict\n",
    "from sklearn.metrics import mean_squared_error, r2_score\n",
    "from sklearn.decomposition import PCA\n",
    "from sklearn.cross_decomposition import PLSRegression\n",
    "\n",
    "import statsmodels.api as sm\n",
    "import patsy\n",
    "\n",
    "# Glmnet Vignette\n",
    "import glmnet_python\n",
    "from glmnet import glmnet\n",
    "\n",
    "# For viewing progress bar\n",
    "from tqdm import tqdm, tnrange, tqdm_notebook\n",
    "\n",
    "# interactive grid\n",
    "import qgrid"
   ]
  },
  {
   "cell_type": "code",
   "execution_count": 2,
   "metadata": {},
   "outputs": [],
   "source": [
    "# Debugging\n",
    "%load_ext birdseye"
   ]
  },
  {
   "cell_type": "code",
   "execution_count": 146,
   "metadata": {},
   "outputs": [],
   "source": [
    "X = np.random.normal(size=100)\n",
    "y = 0.5 + 2*X - 5*(X**2) + 3*(X**3) + np.random.normal(size=100)"
   ]
  },
  {
   "cell_type": "code",
   "execution_count": 147,
   "metadata": {
    "scrolled": false
   },
   "outputs": [
    {
     "data": {
      "text/html": [
       "<div>\n",
       "<style scoped>\n",
       "    .dataframe tbody tr th:only-of-type {\n",
       "        vertical-align: middle;\n",
       "    }\n",
       "\n",
       "    .dataframe tbody tr th {\n",
       "        vertical-align: top;\n",
       "    }\n",
       "\n",
       "    .dataframe thead th {\n",
       "        text-align: right;\n",
       "    }\n",
       "</style>\n",
       "<table border=\"1\" class=\"dataframe\">\n",
       "  <thead>\n",
       "    <tr style=\"text-align: right;\">\n",
       "      <th></th>\n",
       "      <th>Y</th>\n",
       "      <th>X1</th>\n",
       "      <th>X2</th>\n",
       "      <th>X3</th>\n",
       "      <th>X4</th>\n",
       "      <th>X5</th>\n",
       "      <th>X6</th>\n",
       "      <th>X7</th>\n",
       "      <th>X8</th>\n",
       "      <th>X9</th>\n",
       "      <th>X10</th>\n",
       "    </tr>\n",
       "  </thead>\n",
       "  <tbody>\n",
       "    <tr>\n",
       "      <th>0</th>\n",
       "      <td>-5.899804</td>\n",
       "      <td>-0.844948</td>\n",
       "      <td>0.713937</td>\n",
       "      <td>-0.603240</td>\n",
       "      <td>0.509707</td>\n",
       "      <td>-0.430676</td>\n",
       "      <td>0.363899</td>\n",
       "      <td>-0.307475</td>\n",
       "      <td>0.259801</td>\n",
       "      <td>-0.219518</td>\n",
       "      <td>0.185481</td>\n",
       "    </tr>\n",
       "    <tr>\n",
       "      <th>1</th>\n",
       "      <td>0.073227</td>\n",
       "      <td>0.855230</td>\n",
       "      <td>0.731419</td>\n",
       "      <td>0.625531</td>\n",
       "      <td>0.534973</td>\n",
       "      <td>0.457525</td>\n",
       "      <td>0.391289</td>\n",
       "      <td>0.334643</td>\n",
       "      <td>0.286196</td>\n",
       "      <td>0.244764</td>\n",
       "      <td>0.209329</td>\n",
       "    </tr>\n",
       "    <tr>\n",
       "      <th>2</th>\n",
       "      <td>-7.721759</td>\n",
       "      <td>-0.951812</td>\n",
       "      <td>0.905946</td>\n",
       "      <td>-0.862290</td>\n",
       "      <td>0.820738</td>\n",
       "      <td>-0.781189</td>\n",
       "      <td>0.743545</td>\n",
       "      <td>-0.707715</td>\n",
       "      <td>0.673612</td>\n",
       "      <td>-0.641152</td>\n",
       "      <td>0.610256</td>\n",
       "    </tr>\n",
       "    <tr>\n",
       "      <th>3</th>\n",
       "      <td>1.054042</td>\n",
       "      <td>0.286645</td>\n",
       "      <td>0.082165</td>\n",
       "      <td>0.023552</td>\n",
       "      <td>0.006751</td>\n",
       "      <td>0.001935</td>\n",
       "      <td>0.000555</td>\n",
       "      <td>0.000159</td>\n",
       "      <td>0.000046</td>\n",
       "      <td>0.000013</td>\n",
       "      <td>0.000004</td>\n",
       "    </tr>\n",
       "    <tr>\n",
       "      <th>4</th>\n",
       "      <td>19.964038</td>\n",
       "      <td>2.473530</td>\n",
       "      <td>6.118352</td>\n",
       "      <td>15.133930</td>\n",
       "      <td>37.434234</td>\n",
       "      <td>92.594712</td>\n",
       "      <td>229.035826</td>\n",
       "      <td>566.527057</td>\n",
       "      <td>1401.321848</td>\n",
       "      <td>3466.212066</td>\n",
       "      <td>8573.780611</td>\n",
       "    </tr>\n",
       "  </tbody>\n",
       "</table>\n",
       "</div>"
      ],
      "text/plain": [
       "           Y        X1        X2         X3         X4         X5          X6  \\\n",
       "0  -5.899804 -0.844948  0.713937  -0.603240   0.509707  -0.430676    0.363899   \n",
       "1   0.073227  0.855230  0.731419   0.625531   0.534973   0.457525    0.391289   \n",
       "2  -7.721759 -0.951812  0.905946  -0.862290   0.820738  -0.781189    0.743545   \n",
       "3   1.054042  0.286645  0.082165   0.023552   0.006751   0.001935    0.000555   \n",
       "4  19.964038  2.473530  6.118352  15.133930  37.434234  92.594712  229.035826   \n",
       "\n",
       "           X7           X8           X9          X10  \n",
       "0   -0.307475     0.259801    -0.219518     0.185481  \n",
       "1    0.334643     0.286196     0.244764     0.209329  \n",
       "2   -0.707715     0.673612    -0.641152     0.610256  \n",
       "3    0.000159     0.000046     0.000013     0.000004  \n",
       "4  566.527057  1401.321848  3466.212066  8573.780611  "
      ]
     },
     "execution_count": 147,
     "metadata": {},
     "output_type": "execute_result"
    }
   ],
   "source": [
    "poly = PolynomialFeatures(degree=10, include_bias=False)\n",
    "X_arr = poly.fit_transform(X[:, np.newaxis])\n",
    "\n",
    "col_names = ['Y']+['X'+ str(i) for i in range(1, 11)]\n",
    "df = pd.DataFrame(np.concatenate((y[:, np.newaxis], X_arr), axis=1), columns=col_names)\n",
    "\n",
    "df.head()"
   ]
  },
  {
   "cell_type": "code",
   "execution_count": 148,
   "metadata": {},
   "outputs": [
    {
     "data": {
      "text/plain": [
       "<matplotlib.axes._subplots.AxesSubplot at 0x209fefc6240>"
      ]
     },
     "execution_count": 148,
     "metadata": {},
     "output_type": "execute_result"
    },
    {
     "data": {
      "image/png": "[encoded data removed]",
      "text/plain": [
       "<Figure size 432x288 with 1 Axes>"
      ]
     },
     "metadata": {
      "needs_background": "light"
     },
     "output_type": "display_data"
    }
   ],
   "source": [
    "sns.scatterplot(X, y)"
   ]
  },
  {
   "cell_type": "markdown",
   "metadata": {},
   "source": [
    "### **Best subset selection**"
   ]
  },
  {
   "cell_type": "code",
   "execution_count": 149,
   "metadata": {},
   "outputs": [
    {
     "name": "stderr",
     "output_type": "stream",
     "text": [
      "100%|██████████| 10/10 [00:05<00:00,  1.79it/s]\n"
     ]
    }
   ],
   "source": [
    "def get_rss(X, y, feature_names):\n",
    "    X = sm.add_constant(X[list(feature_names)])\n",
    "    model = sm.OLS(y, X[list(feature_names)]).fit()\n",
    "    RSS = ((model.predict(X[list(feature_names)]) - y) ** 2).sum()\n",
    "    return {'Model':model, \"RSS\":RSS}\n",
    "\n",
    "def best_model(X, y, K):\n",
    "    results = []\n",
    "    for combo in itertools.combinations(X.columns, K):\n",
    "        results.append(get_rss(X, y, combo))\n",
    "        \n",
    "    all_models =  pd.DataFrame(results)\n",
    "    return all_models.loc[all_models[\"RSS\"].idxmin()]\n",
    "\n",
    "\n",
    "models = pd.DataFrame(columns=['Model', 'RSS'])\n",
    "for k in tqdm(range(1, len(df.columns[1:]) + 1)):\n",
    "    models.loc[k] = best_model(df.iloc[:,1:], df.iloc[:,0], k)"
   ]
  },
  {
   "cell_type": "code",
   "execution_count": 150,
   "metadata": {},
   "outputs": [
    {
     "data": {
      "text/html": [
       "<div>\n",
       "<style scoped>\n",
       "    .dataframe tbody tr th:only-of-type {\n",
       "        vertical-align: middle;\n",
       "    }\n",
       "\n",
       "    .dataframe tbody tr th {\n",
       "        vertical-align: top;\n",
       "    }\n",
       "\n",
       "    .dataframe thead th {\n",
       "        text-align: right;\n",
       "    }\n",
       "</style>\n",
       "<table border=\"1\" class=\"dataframe\">\n",
       "  <thead>\n",
       "    <tr style=\"text-align: right;\">\n",
       "      <th></th>\n",
       "      <th>Model</th>\n",
       "      <th>RSS</th>\n",
       "    </tr>\n",
       "  </thead>\n",
       "  <tbody>\n",
       "    <tr>\n",
       "      <th>1</th>\n",
       "      <td>&lt;statsmodels.regression.linear_model.Regressio...</td>\n",
       "      <td>6596.770204</td>\n",
       "    </tr>\n",
       "    <tr>\n",
       "      <th>2</th>\n",
       "      <td>&lt;statsmodels.regression.linear_model.Regressio...</td>\n",
       "      <td>219.617526</td>\n",
       "    </tr>\n",
       "    <tr>\n",
       "      <th>3</th>\n",
       "      <td>&lt;statsmodels.regression.linear_model.Regressio...</td>\n",
       "      <td>116.849622</td>\n",
       "    </tr>\n",
       "    <tr>\n",
       "      <th>4</th>\n",
       "      <td>&lt;statsmodels.regression.linear_model.Regressio...</td>\n",
       "      <td>110.921311</td>\n",
       "    </tr>\n",
       "    <tr>\n",
       "      <th>5</th>\n",
       "      <td>&lt;statsmodels.regression.linear_model.Regressio...</td>\n",
       "      <td>108.337877</td>\n",
       "    </tr>\n",
       "    <tr>\n",
       "      <th>6</th>\n",
       "      <td>&lt;statsmodels.regression.linear_model.Regressio...</td>\n",
       "      <td>105.432500</td>\n",
       "    </tr>\n",
       "    <tr>\n",
       "      <th>7</th>\n",
       "      <td>&lt;statsmodels.regression.linear_model.Regressio...</td>\n",
       "      <td>104.642212</td>\n",
       "    </tr>\n",
       "    <tr>\n",
       "      <th>8</th>\n",
       "      <td>&lt;statsmodels.regression.linear_model.Regressio...</td>\n",
       "      <td>96.531460</td>\n",
       "    </tr>\n",
       "    <tr>\n",
       "      <th>9</th>\n",
       "      <td>&lt;statsmodels.regression.linear_model.Regressio...</td>\n",
       "      <td>96.529626</td>\n",
       "    </tr>\n",
       "    <tr>\n",
       "      <th>10</th>\n",
       "      <td>&lt;statsmodels.regression.linear_model.Regressio...</td>\n",
       "      <td>96.529561</td>\n",
       "    </tr>\n",
       "  </tbody>\n",
       "</table>\n",
       "</div>"
      ],
      "text/plain": [
       "                                                Model          RSS\n",
       "1   <statsmodels.regression.linear_model.Regressio...  6596.770204\n",
       "2   <statsmodels.regression.linear_model.Regressio...   219.617526\n",
       "3   <statsmodels.regression.linear_model.Regressio...   116.849622\n",
       "4   <statsmodels.regression.linear_model.Regressio...   110.921311\n",
       "5   <statsmodels.regression.linear_model.Regressio...   108.337877\n",
       "6   <statsmodels.regression.linear_model.Regressio...   105.432500\n",
       "7   <statsmodels.regression.linear_model.Regressio...   104.642212\n",
       "8   <statsmodels.regression.linear_model.Regressio...    96.531460\n",
       "9   <statsmodels.regression.linear_model.Regressio...    96.529626\n",
       "10  <statsmodels.regression.linear_model.Regressio...    96.529561"
      ]
     },
     "execution_count": 150,
     "metadata": {},
     "output_type": "execute_result"
    }
   ],
   "source": [
    "models"
   ]
  },
  {
   "cell_type": "code",
   "execution_count": 159,
   "metadata": {},
   "outputs": [
    {
     "data": {
      "text/plain": [
       "Text(0.5, 0.98, 'Best Subset Selection')"
      ]
     },
     "execution_count": 159,
     "metadata": {},
     "output_type": "execute_result"
    },
    {
     "data": {
      "image/png": "[encoded data removed]",
      "text/plain": [
       "<Figure size 1152x360 with 2 Axes>"
      ]
     },
     "metadata": {
      "needs_background": "light"
     },
     "output_type": "display_data"
    }
   ],
   "source": [
    "# Getting the metrics with list comprehension is also possible\n",
    "# r_adj = [models.iloc[x, 0].rsquared_adj for x in range(len(models))]\n",
    "\n",
    "# Get the metrics for each model\n",
    "rsquared_adj = models.apply(lambda row: row[0].rsquared_adj, axis=1)\n",
    "aic = models.apply(lambda row: row[0].aic, axis=1)\n",
    "bic = models.apply(lambda row: row[0].bic, axis=1)\n",
    "\n",
    "# get min and max of each metric and their indexes\n",
    "min_aic_index, min_aic = min(enumerate(aic), key=itemgetter(1))\n",
    "min_bic_index, min_bic = min(enumerate(bic), key=itemgetter(1))\n",
    "max_radj_index, max_radj = max(enumerate(rsquared_adj), key=itemgetter(1))\n",
    "\n",
    "num_predictors = np.arange(1, len(models) + 1)\n",
    "\n",
    "# Create a plot\n",
    "fig, (ax1, ax2) = plt.subplots(1, 2, figsize=(16, 5))\n",
    "\n",
    "# Add rates of bic and aic\n",
    "ax1.plot(num_predictors, aic, 'gold', marker='o', label='AIC')\n",
    "ax1.plot(num_predictors, bic, 'b', marker='o', label='BIC')\n",
    "\n",
    "# add the minimums to the axis\n",
    "ax1.plot(min_aic_index+1, min_aic, 'ro', markersize=10, markeredgewidth=1)\n",
    "ax1.plot(min_bic_index+1, min_bic, 'ro', markersize=10, markeredgewidth=1)\n",
    "\n",
    "# Labels and Legend\n",
    "ax1.set_xlabel('Number of Predictors')\n",
    "ax1.set_ylabel('Error rate')\n",
    "ax1.legend(loc='best')\n",
    "\n",
    "# Add Adj R**2\n",
    "ax2.plot(num_predictors, rsquared_adj, 'g', marker='o')\n",
    "ax2.plot(max_radj_index+1, max_radj, 'ro', markersize=10, markeredgewidth=1)\n",
    "ax2.set_xlabel('Number of Predictors')\n",
    "ax2.set_ylabel('Adjusted R**2')\n",
    "\n",
    "fig.suptitle('Best Subset Selection', fontsize=16)"
   ]
  },
  {
   "cell_type": "markdown",
   "metadata": {},
   "source": [
    "***\n",
    "### **Forward stepwise selection**"
   ]
  },
  {
   "cell_type": "code",
   "execution_count": 180,
   "metadata": {},
   "outputs": [
    {
     "name": "stderr",
     "output_type": "stream",
     "text": [
      "100%|██████████| 10/10 [00:00<00:00, 22.93it/s]\n"
     ]
    }
   ],
   "source": [
    "def forward_select(X, y, feature_names):\n",
    "    remaining_predictors = [p for p in X.columns if p not in feature_names]\n",
    "    results = []\n",
    "    for p in remaining_predictors:\n",
    "        results.append(get_rss(X, y, feature_names+[p]))\n",
    "        \n",
    "    all_models =  pd.DataFrame(results)\n",
    "    return all_models.loc[all_models[\"RSS\"].idxmin()]\n",
    "\n",
    "forward_models = pd.DataFrame(columns=['Model', 'RSS'])\n",
    "feature_list = []\n",
    "for k in tqdm(range(1, len(df.columns[1:]) + 1)):\n",
    "    forward_models.loc[k] = forward_select(df.iloc[:,1:], df.iloc[:,0], feature_list)\n",
    "    feature_list = forward_models.loc[k]['Model'].model.exog_names"
   ]
  },
  {
   "cell_type": "code",
   "execution_count": 183,
   "metadata": {},
   "outputs": [
    {
     "data": {
      "text/html": [
       "<div>\n",
       "<style scoped>\n",
       "    .dataframe tbody tr th:only-of-type {\n",
       "        vertical-align: middle;\n",
       "    }\n",
       "\n",
       "    .dataframe tbody tr th {\n",
       "        vertical-align: top;\n",
       "    }\n",
       "\n",
       "    .dataframe thead th {\n",
       "        text-align: right;\n",
       "    }\n",
       "</style>\n",
       "<table border=\"1\" class=\"dataframe\">\n",
       "  <thead>\n",
       "    <tr style=\"text-align: right;\">\n",
       "      <th></th>\n",
       "      <th>Model</th>\n",
       "      <th>RSS</th>\n",
       "    </tr>\n",
       "  </thead>\n",
       "  <tbody>\n",
       "    <tr>\n",
       "      <th>1</th>\n",
       "      <td>&lt;statsmodels.regression.linear_model.Regressio...</td>\n",
       "      <td>6596.770204</td>\n",
       "    </tr>\n",
       "    <tr>\n",
       "      <th>2</th>\n",
       "      <td>&lt;statsmodels.regression.linear_model.Regressio...</td>\n",
       "      <td>219.617526</td>\n",
       "    </tr>\n",
       "    <tr>\n",
       "      <th>3</th>\n",
       "      <td>&lt;statsmodels.regression.linear_model.Regressio...</td>\n",
       "      <td>116.849622</td>\n",
       "    </tr>\n",
       "    <tr>\n",
       "      <th>4</th>\n",
       "      <td>&lt;statsmodels.regression.linear_model.Regressio...</td>\n",
       "      <td>110.921311</td>\n",
       "    </tr>\n",
       "    <tr>\n",
       "      <th>5</th>\n",
       "      <td>&lt;statsmodels.regression.linear_model.Regressio...</td>\n",
       "      <td>108.337877</td>\n",
       "    </tr>\n",
       "    <tr>\n",
       "      <th>6</th>\n",
       "      <td>&lt;statsmodels.regression.linear_model.Regressio...</td>\n",
       "      <td>107.315009</td>\n",
       "    </tr>\n",
       "    <tr>\n",
       "      <th>7</th>\n",
       "      <td>&lt;statsmodels.regression.linear_model.Regressio...</td>\n",
       "      <td>105.040631</td>\n",
       "    </tr>\n",
       "    <tr>\n",
       "      <th>8</th>\n",
       "      <td>&lt;statsmodels.regression.linear_model.Regressio...</td>\n",
       "      <td>104.216786</td>\n",
       "    </tr>\n",
       "    <tr>\n",
       "      <th>9</th>\n",
       "      <td>&lt;statsmodels.regression.linear_model.Regressio...</td>\n",
       "      <td>103.606776</td>\n",
       "    </tr>\n",
       "    <tr>\n",
       "      <th>10</th>\n",
       "      <td>&lt;statsmodels.regression.linear_model.Regressio...</td>\n",
       "      <td>96.529561</td>\n",
       "    </tr>\n",
       "  </tbody>\n",
       "</table>\n",
       "</div>"
      ],
      "text/plain": [
       "                                                Model          RSS\n",
       "1   <statsmodels.regression.linear_model.Regressio...  6596.770204\n",
       "2   <statsmodels.regression.linear_model.Regressio...   219.617526\n",
       "3   <statsmodels.regression.linear_model.Regressio...   116.849622\n",
       "4   <statsmodels.regression.linear_model.Regressio...   110.921311\n",
       "5   <statsmodels.regression.linear_model.Regressio...   108.337877\n",
       "6   <statsmodels.regression.linear_model.Regressio...   107.315009\n",
       "7   <statsmodels.regression.linear_model.Regressio...   105.040631\n",
       "8   <statsmodels.regression.linear_model.Regressio...   104.216786\n",
       "9   <statsmodels.regression.linear_model.Regressio...   103.606776\n",
       "10  <statsmodels.regression.linear_model.Regressio...    96.529561"
      ]
     },
     "execution_count": 183,
     "metadata": {},
     "output_type": "execute_result"
    }
   ],
   "source": [
    "forward_models"
   ]
  },
  {
   "cell_type": "code",
   "execution_count": 184,
   "metadata": {},
   "outputs": [
    {
     "data": {
      "text/plain": [
       "Text(0.5, 0.98, 'Forward Stepwise Selection')"
      ]
     },
     "execution_count": 184,
     "metadata": {},
     "output_type": "execute_result"
    },
    {
     "data": {
      "image/png": "[encoded data removed]",
      "text/plain": [
       "<Figure size 1152x360 with 2 Axes>"
      ]
     },
     "metadata": {
      "needs_background": "light"
     },
     "output_type": "display_data"
    }
   ],
   "source": [
    "# Getting the metrics with list comprehension is also possible\n",
    "# r_adj = [models.iloc[x, 0].rsquared_adj for x in range(len(models))]\n",
    "\n",
    "# Get the metrics for each model\n",
    "rsquared_adj = forward_models.apply(lambda row: row[0].rsquared_adj, axis=1)\n",
    "aic = forward_models.apply(lambda row: row[0].aic, axis=1)\n",
    "bic = forward_models.apply(lambda row: row[0].bic, axis=1)\n",
    "\n",
    "# get min and max of each metric and their indexes\n",
    "min_aic_index, min_aic = min(enumerate(aic), key=itemgetter(1))\n",
    "min_bic_index, min_bic = min(enumerate(bic), key=itemgetter(1))\n",
    "max_radj_index, max_radj = max(enumerate(rsquared_adj), key=itemgetter(1))\n",
    "\n",
    "num_predictors = np.arange(1, len(forward_models) + 1)\n",
    "\n",
    "# Create a plot\n",
    "fig, (ax1, ax2) = plt.subplots(1, 2, figsize=(16, 5))\n",
    "\n",
    "# Add rates of bic and aic\n",
    "ax1.plot(num_predictors, aic, 'gold', marker='o', label='AIC')\n",
    "ax1.plot(num_predictors, bic, 'b', marker='o', label='BIC')\n",
    "\n",
    "# add the minimums to the axis\n",
    "ax1.plot(min_aic_index+1, min_aic, 'ro', markersize=10, markeredgewidth=1)\n",
    "ax1.plot(min_bic_index+1, min_bic, 'ro', markersize=10, markeredgewidth=1)\n",
    "\n",
    "# Labels and Legend\n",
    "ax1.set_xlabel('Number of Predictors')\n",
    "ax1.set_ylabel('Error rate')\n",
    "ax1.legend(loc='best')\n",
    "\n",
    "# Add Adj R**2\n",
    "ax2.plot(num_predictors, rsquared_adj, 'g', marker='o')\n",
    "ax2.plot(max_radj_index+1, max_radj, 'ro', markersize=10, markeredgewidth=1)\n",
    "ax2.set_xlabel('Number of Predictors')\n",
    "ax2.set_ylabel('Adjusted R**2')\n",
    "\n",
    "fig.suptitle('Forward Stepwise Selection', fontsize=16)"
   ]
  },
  {
   "cell_type": "markdown",
   "metadata": {},
   "source": [
    "### **Backward Stepwise Selection**"
   ]
  },
  {
   "cell_type": "code",
   "execution_count": 208,
   "metadata": {},
   "outputs": [
    {
     "data": {
      "text/html": [
       "<div>\n",
       "<style scoped>\n",
       "    .dataframe tbody tr th:only-of-type {\n",
       "        vertical-align: middle;\n",
       "    }\n",
       "\n",
       "    .dataframe tbody tr th {\n",
       "        vertical-align: top;\n",
       "    }\n",
       "\n",
       "    .dataframe thead th {\n",
       "        text-align: right;\n",
       "    }\n",
       "</style>\n",
       "<table border=\"1\" class=\"dataframe\">\n",
       "  <thead>\n",
       "    <tr style=\"text-align: right;\">\n",
       "      <th></th>\n",
       "      <th>Model</th>\n",
       "      <th>RSS</th>\n",
       "    </tr>\n",
       "  </thead>\n",
       "  <tbody>\n",
       "    <tr>\n",
       "      <th>1</th>\n",
       "      <td>&lt;statsmodels.regression.linear_model.Regressio...</td>\n",
       "      <td>9384.62</td>\n",
       "    </tr>\n",
       "    <tr>\n",
       "      <th>2</th>\n",
       "      <td>&lt;statsmodels.regression.linear_model.Regressio...</td>\n",
       "      <td>1586.43</td>\n",
       "    </tr>\n",
       "    <tr>\n",
       "      <th>3</th>\n",
       "      <td>&lt;statsmodels.regression.linear_model.Regressio...</td>\n",
       "      <td>268.222</td>\n",
       "    </tr>\n",
       "    <tr>\n",
       "      <th>4</th>\n",
       "      <td>&lt;statsmodels.regression.linear_model.Regressio...</td>\n",
       "      <td>140.846</td>\n",
       "    </tr>\n",
       "    <tr>\n",
       "      <th>5</th>\n",
       "      <td>&lt;statsmodels.regression.linear_model.Regressio...</td>\n",
       "      <td>114.914</td>\n",
       "    </tr>\n",
       "    <tr>\n",
       "      <th>6</th>\n",
       "      <td>&lt;statsmodels.regression.linear_model.Regressio...</td>\n",
       "      <td>106.156</td>\n",
       "    </tr>\n",
       "    <tr>\n",
       "      <th>7</th>\n",
       "      <td>&lt;statsmodels.regression.linear_model.Regressio...</td>\n",
       "      <td>105.982</td>\n",
       "    </tr>\n",
       "    <tr>\n",
       "      <th>8</th>\n",
       "      <td>&lt;statsmodels.regression.linear_model.Regressio...</td>\n",
       "      <td>96.5315</td>\n",
       "    </tr>\n",
       "    <tr>\n",
       "      <th>9</th>\n",
       "      <td>&lt;statsmodels.regression.linear_model.Regressio...</td>\n",
       "      <td>96.5296</td>\n",
       "    </tr>\n",
       "  </tbody>\n",
       "</table>\n",
       "</div>"
      ],
      "text/plain": [
       "                                               Model      RSS\n",
       "1  <statsmodels.regression.linear_model.Regressio...  9384.62\n",
       "2  <statsmodels.regression.linear_model.Regressio...  1586.43\n",
       "3  <statsmodels.regression.linear_model.Regressio...  268.222\n",
       "4  <statsmodels.regression.linear_model.Regressio...  140.846\n",
       "5  <statsmodels.regression.linear_model.Regressio...  114.914\n",
       "6  <statsmodels.regression.linear_model.Regressio...  106.156\n",
       "7  <statsmodels.regression.linear_model.Regressio...  105.982\n",
       "8  <statsmodels.regression.linear_model.Regressio...  96.5315\n",
       "9  <statsmodels.regression.linear_model.Regressio...  96.5296"
      ]
     },
     "execution_count": 208,
     "metadata": {},
     "output_type": "execute_result"
    }
   ],
   "source": [
    "def backward_select(X, y, feature_names):\n",
    "    results = []\n",
    "    for combo in itertools.combinations(feature_names, len(feature_names)-1):\n",
    "        results.append(get_rss(X, y, combo))\n",
    "        \n",
    "    all_models =  pd.DataFrame(results)\n",
    "    return all_models.loc[all_models[\"RSS\"].idxmin()]\n",
    "\n",
    "backward_models = pd.DataFrame(columns=['Model', 'RSS'], index=range(1, len(df.columns[1:])))\n",
    "feature_list = df.columns[1:]\n",
    "\n",
    "while len(feature_list) > 1:\n",
    "    backward_models.loc[len(feature_list)-1] = backward_select(df.iloc[:,1:], df.iloc[:,0], feature_list)\n",
    "    feature_list = backward_models.loc[len(feature_list)-1]['Model'].model.exog_names\n",
    "\n",
    "backward_models"
   ]
  },
  {
   "cell_type": "code",
   "execution_count": 199,
   "metadata": {},
   "outputs": [
    {
     "data": {
      "text/plain": [
       "Text(0.5, 0.98, 'Backward Stepwise Selection')"
      ]
     },
     "execution_count": 199,
     "metadata": {},
     "output_type": "execute_result"
    },
    {
     "data": {
      "image/png": "[encoded data removed]",
      "text/plain": [
       "<Figure size 1152x360 with 2 Axes>"
      ]
     },
     "metadata": {
      "needs_background": "light"
     },
     "output_type": "display_data"
    }
   ],
   "source": [
    "# Getting the metrics with list comprehension is also possible\n",
    "# r_adj = [models.iloc[x, 0].rsquared_adj for x in range(len(models))]\n",
    "\n",
    "# Get the metrics for each model\n",
    "rsquared_adj = backward_models.apply(lambda row: row[0].rsquared_adj, axis=1)\n",
    "aic = backward_models.apply(lambda row: row[0].aic, axis=1)\n",
    "bic = backward_models.apply(lambda row: row[0].bic, axis=1)\n",
    "\n",
    "# get min and max of each metric and their indexes\n",
    "min_aic_index, min_aic = min(enumerate(aic), key=itemgetter(1))\n",
    "min_bic_index, min_bic = min(enumerate(bic), key=itemgetter(1))\n",
    "max_radj_index, max_radj = max(enumerate(rsquared_adj), key=itemgetter(1))\n",
    "\n",
    "num_predictors = np.arange(1, len(backward_models) + 1)\n",
    "\n",
    "# Create a plot\n",
    "fig, (ax1, ax2) = plt.subplots(1, 2, figsize=(16, 5))\n",
    "\n",
    "# Add rates of bic and aic\n",
    "ax1.plot(num_predictors, aic, 'gold', marker='o', label='AIC')\n",
    "ax1.plot(num_predictors, bic, 'b', marker='o', label='BIC')\n",
    "\n",
    "# add the minimums to the axis\n",
    "ax1.plot(min_aic_index+1, min_aic, 'ro', markersize=10, markeredgewidth=1)\n",
    "ax1.plot(min_bic_index+1, min_bic, 'ro', markersize=10, markeredgewidth=1)\n",
    "\n",
    "# Labels and Legend\n",
    "ax1.set_xlabel('Number of Predictors')\n",
    "ax1.set_ylabel('Error rate')\n",
    "ax1.legend(loc='best')\n",
    "\n",
    "# Add Adj R**2\n",
    "ax2.plot(num_predictors, rsquared_adj, 'g', marker='o')\n",
    "ax2.plot(max_radj_index+1, max_radj, 'ro', markersize=10, markeredgewidth=1)\n",
    "ax2.set_xlabel('Number of Predictors')\n",
    "ax2.set_ylabel('Adjusted R**2')\n",
    "\n",
    "fig.suptitle('Backward Stepwise Selection', fontsize=16)"
   ]
  },
  {
   "cell_type": "markdown",
   "metadata": {},
   "source": [
    "### **Lasso**"
   ]
  },
  {
   "cell_type": "code",
   "execution_count": 218,
   "metadata": {},
   "outputs": [
    {
     "data": {
      "image/png": "[encoded data removed]",
      "text/plain": [
       "<Figure size 720x360 with 1 Axes>"
      ]
     },
     "metadata": {
      "needs_background": "light"
     },
     "output_type": "display_data"
    }
   ],
   "source": [
    "# Use LassoCV to perform 5-fold cross validation to determine optimal alpha\n",
    "lasso_cv = LassoCV(alphas = np.logspace(-4,-1,100), normalize=True, cv=10, max_iter=10000000)\n",
    "lasso_cv.fit(df.iloc[:,1:].values, df.iloc[:,0].values)\n",
    "\n",
    "# The mse estimates are the mean aross folds (cols)\n",
    "mses = np.mean(lasso_cv.mse_path_, axis=1)\n",
    "\n",
    "# Plot CV error vs alpha\n",
    "fig, ax = plt.subplots(figsize=(10,5));\n",
    "ax.plot(lasso_cv.alphas_,mses, color='b');\n",
    "ax.plot(lasso_cv.alpha_, np.min(mses), marker='o', color='r', markersize=8);\n",
    "ax.set_xlabel('alpha log-scale');\n",
    "ax.set_xscale('log')\n",
    "ax.set_ylabel('CV 5-Fold');"
   ]
  },
  {
   "cell_type": "markdown",
   "metadata": {},
   "source": [
    "***\n",
    "## Exercise 9"
   ]
  },
  {
   "cell_type": "code",
   "execution_count": 3,
   "metadata": {},
   "outputs": [
    {
     "data": {
      "text/html": [
       "<div>\n",
       "<style scoped>\n",
       "    .dataframe tbody tr th:only-of-type {\n",
       "        vertical-align: middle;\n",
       "    }\n",
       "\n",
       "    .dataframe tbody tr th {\n",
       "        vertical-align: top;\n",
       "    }\n",
       "\n",
       "    .dataframe thead th {\n",
       "        text-align: right;\n",
       "    }\n",
       "</style>\n",
       "<table border=\"1\" class=\"dataframe\">\n",
       "  <thead>\n",
       "    <tr style=\"text-align: right;\">\n",
       "      <th></th>\n",
       "      <th>Private</th>\n",
       "      <th>Apps</th>\n",
       "      <th>Accept</th>\n",
       "      <th>Enroll</th>\n",
       "      <th>Top10perc</th>\n",
       "      <th>Top25perc</th>\n",
       "      <th>F.Undergrad</th>\n",
       "      <th>P.Undergrad</th>\n",
       "      <th>Outstate</th>\n",
       "      <th>Room.Board</th>\n",
       "      <th>Books</th>\n",
       "      <th>Personal</th>\n",
       "      <th>PhD</th>\n",
       "      <th>Terminal</th>\n",
       "      <th>S.F.Ratio</th>\n",
       "      <th>perc.alumni</th>\n",
       "      <th>Expend</th>\n",
       "      <th>Grad.Rate</th>\n",
       "    </tr>\n",
       "  </thead>\n",
       "  <tbody>\n",
       "    <tr>\n",
       "      <th>Abilene Christian University</th>\n",
       "      <td>Yes</td>\n",
       "      <td>1660</td>\n",
       "      <td>1232</td>\n",
       "      <td>721</td>\n",
       "      <td>23</td>\n",
       "      <td>52</td>\n",
       "      <td>2885</td>\n",
       "      <td>537</td>\n",
       "      <td>7440</td>\n",
       "      <td>3300</td>\n",
       "      <td>450</td>\n",
       "      <td>2200</td>\n",
       "      <td>70</td>\n",
       "      <td>78</td>\n",
       "      <td>18.1</td>\n",
       "      <td>12</td>\n",
       "      <td>7041</td>\n",
       "      <td>60</td>\n",
       "    </tr>\n",
       "    <tr>\n",
       "      <th>Adelphi University</th>\n",
       "      <td>Yes</td>\n",
       "      <td>2186</td>\n",
       "      <td>1924</td>\n",
       "      <td>512</td>\n",
       "      <td>16</td>\n",
       "      <td>29</td>\n",
       "      <td>2683</td>\n",
       "      <td>1227</td>\n",
       "      <td>12280</td>\n",
       "      <td>6450</td>\n",
       "      <td>750</td>\n",
       "      <td>1500</td>\n",
       "      <td>29</td>\n",
       "      <td>30</td>\n",
       "      <td>12.2</td>\n",
       "      <td>16</td>\n",
       "      <td>10527</td>\n",
       "      <td>56</td>\n",
       "    </tr>\n",
       "    <tr>\n",
       "      <th>Adrian College</th>\n",
       "      <td>Yes</td>\n",
       "      <td>1428</td>\n",
       "      <td>1097</td>\n",
       "      <td>336</td>\n",
       "      <td>22</td>\n",
       "      <td>50</td>\n",
       "      <td>1036</td>\n",
       "      <td>99</td>\n",
       "      <td>11250</td>\n",
       "      <td>3750</td>\n",
       "      <td>400</td>\n",
       "      <td>1165</td>\n",
       "      <td>53</td>\n",
       "      <td>66</td>\n",
       "      <td>12.9</td>\n",
       "      <td>30</td>\n",
       "      <td>8735</td>\n",
       "      <td>54</td>\n",
       "    </tr>\n",
       "    <tr>\n",
       "      <th>Agnes Scott College</th>\n",
       "      <td>Yes</td>\n",
       "      <td>417</td>\n",
       "      <td>349</td>\n",
       "      <td>137</td>\n",
       "      <td>60</td>\n",
       "      <td>89</td>\n",
       "      <td>510</td>\n",
       "      <td>63</td>\n",
       "      <td>12960</td>\n",
       "      <td>5450</td>\n",
       "      <td>450</td>\n",
       "      <td>875</td>\n",
       "      <td>92</td>\n",
       "      <td>97</td>\n",
       "      <td>7.7</td>\n",
       "      <td>37</td>\n",
       "      <td>19016</td>\n",
       "      <td>59</td>\n",
       "    </tr>\n",
       "    <tr>\n",
       "      <th>Alaska Pacific University</th>\n",
       "      <td>Yes</td>\n",
       "      <td>193</td>\n",
       "      <td>146</td>\n",
       "      <td>55</td>\n",
       "      <td>16</td>\n",
       "      <td>44</td>\n",
       "      <td>249</td>\n",
       "      <td>869</td>\n",
       "      <td>7560</td>\n",
       "      <td>4120</td>\n",
       "      <td>800</td>\n",
       "      <td>1500</td>\n",
       "      <td>76</td>\n",
       "      <td>72</td>\n",
       "      <td>11.9</td>\n",
       "      <td>2</td>\n",
       "      <td>10922</td>\n",
       "      <td>15</td>\n",
       "    </tr>\n",
       "  </tbody>\n",
       "</table>\n",
       "</div>"
      ],
      "text/plain": [
       "                             Private  Apps  Accept  Enroll  Top10perc  \\\n",
       "Abilene Christian University     Yes  1660    1232     721         23   \n",
       "Adelphi University               Yes  2186    1924     512         16   \n",
       "Adrian College                   Yes  1428    1097     336         22   \n",
       "Agnes Scott College              Yes   417     349     137         60   \n",
       "Alaska Pacific University        Yes   193     146      55         16   \n",
       "\n",
       "                              Top25perc  F.Undergrad  P.Undergrad  Outstate  \\\n",
       "Abilene Christian University         52         2885          537      7440   \n",
       "Adelphi University                   29         2683         1227     12280   \n",
       "Adrian College                       50         1036           99     11250   \n",
       "Agnes Scott College                  89          510           63     12960   \n",
       "Alaska Pacific University            44          249          869      7560   \n",
       "\n",
       "                              Room.Board  Books  Personal  PhD  Terminal  \\\n",
       "Abilene Christian University        3300    450      2200   70        78   \n",
       "Adelphi University                  6450    750      1500   29        30   \n",
       "Adrian College                      3750    400      1165   53        66   \n",
       "Agnes Scott College                 5450    450       875   92        97   \n",
       "Alaska Pacific University           4120    800      1500   76        72   \n",
       "\n",
       "                              S.F.Ratio  perc.alumni  Expend  Grad.Rate  \n",
       "Abilene Christian University       18.1           12    7041         60  \n",
       "Adelphi University                 12.2           16   10527         56  \n",
       "Adrian College                     12.9           30    8735         54  \n",
       "Agnes Scott College                 7.7           37   19016         59  \n",
       "Alaska Pacific University          11.9            2   10922         15  "
      ]
     },
     "execution_count": 3,
     "metadata": {},
     "output_type": "execute_result"
    }
   ],
   "source": [
    "college = sm.datasets.get_rdataset('College', package='ISLR').data\n",
    "college.head()"
   ]
  },
  {
   "cell_type": "code",
   "execution_count": 4,
   "metadata": {},
   "outputs": [],
   "source": [
    "# This is an alternative approach to creating dummy vars.\n",
    "# However, this approach creates sparse matrix, which we'll\n",
    "# need to replace the original non-encoded column in the df.\n",
    "# Useful in many ocassions, but for current task, Sklearn's \n",
    "# LabelEncoder is easier in this case.\n",
    "\n",
    "#dummy = pd.get_dummies(college['Private'], prefix='Private')"
   ]
  },
  {
   "cell_type": "code",
   "execution_count": 5,
   "metadata": {},
   "outputs": [
    {
     "data": {
      "text/html": [
       "<div>\n",
       "<style scoped>\n",
       "    .dataframe tbody tr th:only-of-type {\n",
       "        vertical-align: middle;\n",
       "    }\n",
       "\n",
       "    .dataframe tbody tr th {\n",
       "        vertical-align: top;\n",
       "    }\n",
       "\n",
       "    .dataframe thead th {\n",
       "        text-align: right;\n",
       "    }\n",
       "</style>\n",
       "<table border=\"1\" class=\"dataframe\">\n",
       "  <thead>\n",
       "    <tr style=\"text-align: right;\">\n",
       "      <th></th>\n",
       "      <th>Private</th>\n",
       "      <th>Apps</th>\n",
       "      <th>Accept</th>\n",
       "      <th>Enroll</th>\n",
       "      <th>Top10perc</th>\n",
       "      <th>Top25perc</th>\n",
       "      <th>F.Undergrad</th>\n",
       "      <th>P.Undergrad</th>\n",
       "      <th>Outstate</th>\n",
       "      <th>Room.Board</th>\n",
       "      <th>Books</th>\n",
       "      <th>Personal</th>\n",
       "      <th>PhD</th>\n",
       "      <th>Terminal</th>\n",
       "      <th>S.F.Ratio</th>\n",
       "      <th>perc.alumni</th>\n",
       "      <th>Expend</th>\n",
       "      <th>Grad.Rate</th>\n",
       "    </tr>\n",
       "  </thead>\n",
       "  <tbody>\n",
       "    <tr>\n",
       "      <th>Abilene Christian University</th>\n",
       "      <td>1</td>\n",
       "      <td>1660</td>\n",
       "      <td>1232</td>\n",
       "      <td>721</td>\n",
       "      <td>23</td>\n",
       "      <td>52</td>\n",
       "      <td>2885</td>\n",
       "      <td>537</td>\n",
       "      <td>7440</td>\n",
       "      <td>3300</td>\n",
       "      <td>450</td>\n",
       "      <td>2200</td>\n",
       "      <td>70</td>\n",
       "      <td>78</td>\n",
       "      <td>18.1</td>\n",
       "      <td>12</td>\n",
       "      <td>7041</td>\n",
       "      <td>60</td>\n",
       "    </tr>\n",
       "    <tr>\n",
       "      <th>Adelphi University</th>\n",
       "      <td>1</td>\n",
       "      <td>2186</td>\n",
       "      <td>1924</td>\n",
       "      <td>512</td>\n",
       "      <td>16</td>\n",
       "      <td>29</td>\n",
       "      <td>2683</td>\n",
       "      <td>1227</td>\n",
       "      <td>12280</td>\n",
       "      <td>6450</td>\n",
       "      <td>750</td>\n",
       "      <td>1500</td>\n",
       "      <td>29</td>\n",
       "      <td>30</td>\n",
       "      <td>12.2</td>\n",
       "      <td>16</td>\n",
       "      <td>10527</td>\n",
       "      <td>56</td>\n",
       "    </tr>\n",
       "    <tr>\n",
       "      <th>Adrian College</th>\n",
       "      <td>1</td>\n",
       "      <td>1428</td>\n",
       "      <td>1097</td>\n",
       "      <td>336</td>\n",
       "      <td>22</td>\n",
       "      <td>50</td>\n",
       "      <td>1036</td>\n",
       "      <td>99</td>\n",
       "      <td>11250</td>\n",
       "      <td>3750</td>\n",
       "      <td>400</td>\n",
       "      <td>1165</td>\n",
       "      <td>53</td>\n",
       "      <td>66</td>\n",
       "      <td>12.9</td>\n",
       "      <td>30</td>\n",
       "      <td>8735</td>\n",
       "      <td>54</td>\n",
       "    </tr>\n",
       "    <tr>\n",
       "      <th>Agnes Scott College</th>\n",
       "      <td>1</td>\n",
       "      <td>417</td>\n",
       "      <td>349</td>\n",
       "      <td>137</td>\n",
       "      <td>60</td>\n",
       "      <td>89</td>\n",
       "      <td>510</td>\n",
       "      <td>63</td>\n",
       "      <td>12960</td>\n",
       "      <td>5450</td>\n",
       "      <td>450</td>\n",
       "      <td>875</td>\n",
       "      <td>92</td>\n",
       "      <td>97</td>\n",
       "      <td>7.7</td>\n",
       "      <td>37</td>\n",
       "      <td>19016</td>\n",
       "      <td>59</td>\n",
       "    </tr>\n",
       "    <tr>\n",
       "      <th>Alaska Pacific University</th>\n",
       "      <td>1</td>\n",
       "      <td>193</td>\n",
       "      <td>146</td>\n",
       "      <td>55</td>\n",
       "      <td>16</td>\n",
       "      <td>44</td>\n",
       "      <td>249</td>\n",
       "      <td>869</td>\n",
       "      <td>7560</td>\n",
       "      <td>4120</td>\n",
       "      <td>800</td>\n",
       "      <td>1500</td>\n",
       "      <td>76</td>\n",
       "      <td>72</td>\n",
       "      <td>11.9</td>\n",
       "      <td>2</td>\n",
       "      <td>10922</td>\n",
       "      <td>15</td>\n",
       "    </tr>\n",
       "  </tbody>\n",
       "</table>\n",
       "</div>"
      ],
      "text/plain": [
       "                              Private  Apps  Accept  Enroll  Top10perc  \\\n",
       "Abilene Christian University        1  1660    1232     721         23   \n",
       "Adelphi University                  1  2186    1924     512         16   \n",
       "Adrian College                      1  1428    1097     336         22   \n",
       "Agnes Scott College                 1   417     349     137         60   \n",
       "Alaska Pacific University           1   193     146      55         16   \n",
       "\n",
       "                              Top25perc  F.Undergrad  P.Undergrad  Outstate  \\\n",
       "Abilene Christian University         52         2885          537      7440   \n",
       "Adelphi University                   29         2683         1227     12280   \n",
       "Adrian College                       50         1036           99     11250   \n",
       "Agnes Scott College                  89          510           63     12960   \n",
       "Alaska Pacific University            44          249          869      7560   \n",
       "\n",
       "                              Room.Board  Books  Personal  PhD  Terminal  \\\n",
       "Abilene Christian University        3300    450      2200   70        78   \n",
       "Adelphi University                  6450    750      1500   29        30   \n",
       "Adrian College                      3750    400      1165   53        66   \n",
       "Agnes Scott College                 5450    450       875   92        97   \n",
       "Alaska Pacific University           4120    800      1500   76        72   \n",
       "\n",
       "                              S.F.Ratio  perc.alumni  Expend  Grad.Rate  \n",
       "Abilene Christian University       18.1           12    7041         60  \n",
       "Adelphi University                 12.2           16   10527         56  \n",
       "Adrian College                     12.9           30    8735         54  \n",
       "Agnes Scott College                 7.7           37   19016         59  \n",
       "Alaska Pacific University          11.9            2   10922         15  "
      ]
     },
     "execution_count": 5,
     "metadata": {},
     "output_type": "execute_result"
    }
   ],
   "source": [
    "# Encode categorical data\n",
    "college['Private'] = LabelEncoder().fit_transform(college['Private'])\n",
    "college.head()"
   ]
  },
  {
   "cell_type": "code",
   "execution_count": 6,
   "metadata": {},
   "outputs": [],
   "source": [
    "# Alternatively, use Qgrid widget\n",
    "# qrid.show_grid(college, show_toolbar=True)"
   ]
  },
  {
   "cell_type": "code",
   "execution_count": 14,
   "metadata": {},
   "outputs": [],
   "source": [
    "# Separate response and predictors\n",
    "y = college['Apps']\n",
    "X = college[college.columns.difference(['Apps'])]\n",
    "\n",
    "# Split into train and test sets\n",
    "X_train, X_test, y_train, y_test = train_test_split(X, y, test_size=0.33, random_state=1)"
   ]
  },
  {
   "cell_type": "code",
   "execution_count": 23,
   "metadata": {},
   "outputs": [
    {
     "name": "stdout",
     "output_type": "stream",
     "text": [
      "Coefficients: [ 1.57173182e+00 -1.38269535e-01 -8.01250884e-01  7.91910619e-02\n",
      "  6.38300154e-02  9.06215594e+00 -9.60098223e-02  3.77972066e-02\n",
      " -1.16396102e-03 -1.03674278e+01 -3.69400531e+02  1.79488123e-01\n",
      "  1.55672863e+01 -1.76054542e+00  5.79876935e+01 -1.92586482e+01\n",
      " -7.77582592e-02] \n",
      "\n",
      "Mean squared error: 618851.911 \n",
      "Variance score: 0.945\n"
     ]
    }
   ],
   "source": [
    "# Fit on train and predict on test\n",
    "model = LinearRegression().fit(X_train, y_train)\n",
    "y_pred = model.predict(X_test)\n",
    "\n",
    "# Report results\n",
    "print('Coefficients:', model.coef_,\n",
    "     '\\n\\nMean squared error: %.3f' % mean_squared_error(y_test, y_pred),\n",
    "     '\\nVariance score: %.3f' % r2_score(y_test, y_pred))\n"
   ]
  },
  {
   "cell_type": "markdown",
   "metadata": {},
   "source": [
    "### **Ridge regression**"
   ]
  },
  {
   "cell_type": "code",
   "execution_count": 68,
   "metadata": {},
   "outputs": [
    {
     "data": {
      "text/plain": [
       "Text(0.5, 1.0, 'Ridge coefficients as a function of the regularization')"
      ]
     },
     "execution_count": 68,
     "metadata": {},
     "output_type": "execute_result"
    },
    {
     "data": {
      "image/png": "[encoded data removed]",
      "text/plain": [
       "<Figure size 432x288 with 1 Axes>"
      ]
     },
     "metadata": {
      "needs_background": "light"
     },
     "output_type": "display_data"
    }
   ],
   "source": [
    "alphas = 10 ** np.linspace(10, -2, 100)\n",
    "ridge = Ridge()\n",
    "coefs = []\n",
    "\n",
    "for a in alphas:\n",
    "    ridge.set_params(alpha=a)\n",
    "    # use astype() to suprress DataConversionWarnings\n",
    "    ridge.fit(scale(X_train.astype('float64')), y_train)\n",
    "    coefs.append(ridge.coef_)\n",
    "    \n",
    "ax = plt.gca()\n",
    "ax.plot(alphas, coefs)\n",
    "ax.set_xscale('log')\n",
    "plt.axis('tight')\n",
    "plt.xlabel('alpha')\n",
    "plt.ylabel('weights')\n",
    "plt.title('Ridge coefficients as a function of the regularization')"
   ]
  },
  {
   "cell_type": "code",
   "execution_count": 117,
   "metadata": {},
   "outputs": [
    {
     "data": {
      "text/plain": [
       "Accept         3969.424879\n",
       "Books           -23.152745\n",
       "Enroll         -739.108371\n",
       "Expend          443.504620\n",
       "F.Undergrad     313.128383\n",
       "Grad.Rate       158.417893\n",
       "Outstate       -386.133421\n",
       "P.Undergrad      47.231748\n",
       "Personal         -0.799146\n",
       "PhD            -166.910503\n",
       "Private        -165.992935\n",
       "Room.Board      196.446894\n",
       "S.F.Ratio        61.281089\n",
       "Terminal        -24.861897\n",
       "Top10perc      1065.455003\n",
       "Top25perc      -386.481005\n",
       "perc.alumni      -0.981797\n",
       "dtype: float64"
      ]
     },
     "execution_count": 117,
     "metadata": {},
     "output_type": "execute_result"
    }
   ],
   "source": [
    "pd.Series(ridge.coef_, index=X.columns)"
   ]
  },
  {
   "cell_type": "code",
   "execution_count": 69,
   "metadata": {},
   "outputs": [
    {
     "name": "stderr",
     "output_type": "stream",
     "text": [
      "C:\\Users\\Ali Sina\\Anaconda3\\lib\\site-packages\\sklearn\\preprocessing\\data.py:625: DataConversionWarning: Data with input dtype int32, int64, float64 were all converted to float64 by StandardScaler.\n",
      "  return self.partial_fit(X, y)\n",
      "C:\\Users\\Ali Sina\\Anaconda3\\lib\\site-packages\\ipykernel_launcher.py:4: DataConversionWarning: Data with input dtype int32, int64, float64 were all converted to float64 by StandardScaler.\n",
      "  after removing the cwd from sys.path.\n",
      "C:\\Users\\Ali Sina\\Anaconda3\\lib\\site-packages\\ipykernel_launcher.py:5: DataConversionWarning: Data with input dtype int32, int64, float64 were all converted to float64 by StandardScaler.\n",
      "  \"\"\"\n"
     ]
    }
   ],
   "source": [
    "# Scaling data. StandardScaler is same as scale(), only StandardScaler support Transformer API\n",
    "scaler = StandardScaler().fit(X_train)\n",
    "\n",
    "X_train = scaler.transform(X_train)\n",
    "X_test = scaler.transform(X_test)"
   ]
  },
  {
   "cell_type": "code",
   "execution_count": 84,
   "metadata": {},
   "outputs": [
    {
     "data": {
      "text/plain": [
       "6.135907273413163"
      ]
     },
     "execution_count": 84,
     "metadata": {},
     "output_type": "execute_result"
    }
   ],
   "source": [
    "ridgecv = RidgeCV(alphas=alphas, cv=5).fit(X_train, y_train)\n",
    "ridgecv.alpha_"
   ]
  },
  {
   "cell_type": "code",
   "execution_count": 85,
   "metadata": {},
   "outputs": [
    {
     "data": {
      "text/plain": [
       "0.9433962398548505"
      ]
     },
     "execution_count": 85,
     "metadata": {},
     "output_type": "execute_result"
    }
   ],
   "source": [
    "# R-squared\n",
    "ridgecv.score(X_test, y_test)"
   ]
  },
  {
   "cell_type": "code",
   "execution_count": 86,
   "metadata": {},
   "outputs": [
    {
     "data": {
      "text/plain": [
       "631187.2100547701"
      ]
     },
     "execution_count": 86,
     "metadata": {},
     "output_type": "execute_result"
    }
   ],
   "source": [
    "# MSE\n",
    "mean_squared_error(y_test, ridgecv.predict(X_test))"
   ]
  },
  {
   "cell_type": "markdown",
   "metadata": {},
   "source": [
    "**Conclusion:** Ridge with CV does not perform better than ordinary least squares regression.\n",
    "\n",
    "Check out [`glmnet`](https://github.com/civisanalytics/python-glmnet) and [`glmnet_python`](https://glmnet-python.readthedocs.io/en/latest/glmnet_vignette.html) for running R-style regularization."
   ]
  },
  {
   "cell_type": "markdown",
   "metadata": {},
   "source": [
    "### **Lasso regularization**"
   ]
  },
  {
   "cell_type": "code",
   "execution_count": 101,
   "metadata": {},
   "outputs": [
    {
     "data": {
      "text/plain": [
       "Text(0.5, 1.0, 'Lasso coefficients as a function of the regularization')"
      ]
     },
     "execution_count": 101,
     "metadata": {},
     "output_type": "execute_result"
    },
    {
     "data": {
      "image/png": "[encoded data removed]",
      "text/plain": [
       "<Figure size 432x288 with 1 Axes>"
      ]
     },
     "metadata": {
      "needs_background": "light"
     },
     "output_type": "display_data"
    }
   ],
   "source": [
    "lasso = Lasso(max_iter=10000)\n",
    "coefs = []\n",
    "\n",
    "for a in alphas*2:\n",
    "    lasso.set_params(alpha=a)\n",
    "    lasso.fit(X_train, y_train) #no need coz already scaled\n",
    "    coefs.append(lasso.coef_)\n",
    "\n",
    "ax = plt.gca()\n",
    "ax.plot(alphas*2, coefs)\n",
    "ax.set_xscale('log')\n",
    "ax.set_xlim(ax.get_xlim())  # reverse axis\n",
    "plt.axis('tight')\n",
    "plt.xlabel('alpha')\n",
    "plt.ylabel('weights')\n",
    "plt.title('Lasso coefficients as a function of the regularization')"
   ]
  },
  {
   "cell_type": "code",
   "execution_count": 102,
   "metadata": {},
   "outputs": [
    {
     "data": {
      "text/plain": [
       "12.570140969896554"
      ]
     },
     "execution_count": 102,
     "metadata": {},
     "output_type": "execute_result"
    }
   ],
   "source": [
    "# Lasso with CV\n",
    "lassocv = LassoCV(alphas=None, cv=10, max_iter=10000).fit(X_train, y_train)\n",
    "lassocv.alpha_"
   ]
  },
  {
   "cell_type": "code",
   "execution_count": 104,
   "metadata": {},
   "outputs": [
    {
     "data": {
      "text/plain": [
       "0.9438144453773949"
      ]
     },
     "execution_count": 104,
     "metadata": {},
     "output_type": "execute_result"
    }
   ],
   "source": [
    "# R-squared\n",
    "lassocv.score(X_test, y_test)"
   ]
  },
  {
   "cell_type": "code",
   "execution_count": 105,
   "metadata": {},
   "outputs": [
    {
     "data": {
      "text/plain": [
       "626523.8100204366"
      ]
     },
     "execution_count": 105,
     "metadata": {},
     "output_type": "execute_result"
    }
   ],
   "source": [
    "# MSE\n",
    "mean_squared_error(y_test, lassocv.predict(X_test))"
   ]
  },
  {
   "cell_type": "code",
   "execution_count": 106,
   "metadata": {},
   "outputs": [
    {
     "data": {
      "text/plain": [
       "Accept         3795.535619\n",
       "Books            -0.899960\n",
       "Enroll         -243.407363\n",
       "Expend          421.461542\n",
       "F.Undergrad       0.000000\n",
       "Grad.Rate       120.579647\n",
       "Outstate       -321.858253\n",
       "P.Undergrad      32.833553\n",
       "Personal         -0.000000\n",
       "PhD            -133.683012\n",
       "Private        -146.824863\n",
       "Room.Board      179.354840\n",
       "S.F.Ratio        44.361216\n",
       "Terminal        -26.176915\n",
       "Top10perc       867.781003\n",
       "Top25perc      -231.802446\n",
       "perc.alumni      -4.616193\n",
       "dtype: float64"
      ]
     },
     "execution_count": 106,
     "metadata": {},
     "output_type": "execute_result"
    }
   ],
   "source": [
    "pd.Series(lassocv.coef_, index=X.columns)"
   ]
  },
  {
   "cell_type": "markdown",
   "metadata": {},
   "source": [
    "### **Principal Component Analysis**\n",
    "\n",
    "Python does not have PCR like R, but can do like following:"
   ]
  },
  {
   "cell_type": "code",
   "execution_count": 199,
   "metadata": {},
   "outputs": [],
   "source": [
    "# Initialize PCA instance\n",
    "pca = PCA()\n",
    "\n",
    "# Transform X_train (Data is scaled here already)\n",
    "X_train_reduced = pca.fit_transform(X_train)"
   ]
  },
  {
   "cell_type": "markdown",
   "metadata": {},
   "source": [
    "Variance (% cumulative) explained by the principal components:"
   ]
  },
  {
   "cell_type": "code",
   "execution_count": 120,
   "metadata": {},
   "outputs": [
    {
     "data": {
      "text/plain": [
       "array([ 30.89,  57.07,  64.32,  70.07,  75.56,  80.62,  84.4 ,  87.68,\n",
       "        90.52,  92.85,  94.96,  96.8 ,  97.83,  98.74,  99.4 ,  99.85,\n",
       "       100.01])"
      ]
     },
     "execution_count": 120,
     "metadata": {},
     "output_type": "execute_result"
    }
   ],
   "source": [
    "np.cumsum(np.round(pca.explained_variance_ratio_, decimals=4)*100)"
   ]
  },
  {
   "cell_type": "code",
   "execution_count": 211,
   "metadata": {},
   "outputs": [
    {
     "data": {
      "text/plain": [
       "Text(0, 0.5, 'MSE')"
      ]
     },
     "execution_count": 211,
     "metadata": {},
     "output_type": "execute_result"
    },
    {
     "data": {
      "image/png": "[encoded data removed]",
      "text/plain": [
       "<Figure size 432x288 with 1 Axes>"
      ]
     },
     "metadata": {
      "needs_background": "light"
     },
     "output_type": "display_data"
    }
   ],
   "source": [
    "# 10-fold CV, with shuffle\n",
    "n = len(X_train_reduced)\n",
    "kf_10 = KFold(n_splits=10, shuffle=True, random_state=1)\n",
    "\n",
    "regr = LinearRegression()\n",
    "mse = []\n",
    "\n",
    "# Calculate MSE with only the intercept (no principal components in regression)\n",
    "#score = -1 * cross_val_score(regr, np.ones((n,1)), y_train.ravel(), cv=kf_10, scoring='neg_mean_squared_error').mean()    \n",
    "#mse.append(score)\n",
    "\n",
    "# Calculate MSE using CV for the 18 principle components, adding one component at the time.\n",
    "for i in np.arange(1, 19):\n",
    "    score = -1 * cross_val_score(regr, X_train_reduced[:,:i], y_train.ravel(), cv=kf_10, scoring='neg_mean_squared_error').mean()\n",
    "    mse.append(score)\n",
    "    \n",
    "plt.plot(mse, '-v')\n",
    "plt.xlabel('Number of principal components in regression')\n",
    "plt.ylabel('MSE')"
   ]
  },
  {
   "cell_type": "code",
   "execution_count": 145,
   "metadata": {},
   "outputs": [],
   "source": [
    "# Alternatively, define a function to do PCR is better\n",
    "def pcr(X, y, pc):\n",
    "    ''' Principal Component Regression in Python'''\n",
    "    ''' Step 1: PCA on input data'''\n",
    "\n",
    "    # Define the PCA object\n",
    "    pca = PCA()\n",
    "\n",
    "    # Preprocessing (1): first derivative\n",
    "    X_pca = pca.fit_transform(scale(X))[:,:pc]\n",
    "\n",
    "    ''' Step 2: regression on selected principal components'''\n",
    "\n",
    "    # Create linear regression object\n",
    "    regr = LinearRegression()\n",
    "    \n",
    "    # Fit\n",
    "    regr.fit(X_pca, y)\n",
    "\n",
    "    # Calibration\n",
    "    y_train = regr.predict(X_pca)\n",
    "\n",
    "    # Cross-validation\n",
    "    y_cv = cross_val_predict(regr, X_pca, y, cv=20)\n",
    "\n",
    "    # Calculate scores for training and cross-validation\n",
    "    score_train = r2_score(y, y_train)\n",
    "    score_cv = r2_score(y, y_cv)\n",
    "\n",
    "    # Calculate mean square error for training and cross validation\n",
    "    mse_train = mean_squared_error(y, y_train)\n",
    "    mse_cv = mean_squared_error(y, y_cv)\n",
    "\n",
    "    return(y_cv, score_train, score_cv, mse_train, mse_cv)"
   ]
  },
  {
   "cell_type": "code",
   "execution_count": 210,
   "metadata": {},
   "outputs": [
    {
     "data": {
      "image/png": "[encoded data removed]",
      "text/plain": [
       "<Figure size 432x288 with 1 Axes>"
      ]
     },
     "metadata": {
      "needs_background": "light"
     },
     "output_type": "display_data"
    }
   ],
   "source": [
    "mse_train = []\n",
    "mse_cv = []\n",
    "\n",
    "# Calculate MSE using CV for the 18 principle components, adding one component at the time.\n",
    "for i in np.arange(1, 19):\n",
    "    results =  pcr(X_train, y_train ,i)\n",
    "    mse_train.append(results[3])\n",
    "    mse_cv.append(results[4])\n",
    "    \n",
    "# Plot results    \n",
    "plt.plot(np.arange(1, 19), mse_cv, '-v', label = 'Validation_MSE')\n",
    "plt.plot(np.arange(1, 19), mse_train, '-v', label = 'Train_MSE')\n",
    "plt.xlabel('Number of principal components in regression')\n",
    "plt.ylabel('MSE')\n",
    "plt.legend()\n",
    "plt.show()"
   ]
  },
  {
   "cell_type": "markdown",
   "metadata": {},
   "source": [
    "The lowest MSE occurs with principal components $M = 15$."
   ]
  },
  {
   "cell_type": "code",
   "execution_count": 187,
   "metadata": {},
   "outputs": [
    {
     "data": {
      "text/plain": [
       "796210.0721906136"
      ]
     },
     "execution_count": 187,
     "metadata": {},
     "output_type": "execute_result"
    }
   ],
   "source": [
    "pca = PCA(n_components=15)\n",
    "X_train_reduced = pca.fit_transform(X_train)\n",
    "X_test_reduced = pca.transform(X_test)\n",
    "\n",
    "# Train regression model on training data \n",
    "regr = LinearRegression()\n",
    "regr.fit(X_train_reduced, y_train)\n",
    "\n",
    "# Prediction with test data\n",
    "pred = regr.predict(X_test_reduced)\n",
    "mean_squared_error(y_test, pred)"
   ]
  },
  {
   "cell_type": "markdown",
   "metadata": {},
   "source": [
    "### **Partial Least Squares**"
   ]
  },
  {
   "cell_type": "code",
   "execution_count": 214,
   "metadata": {},
   "outputs": [
    {
     "data": {
      "text/plain": [
       "Text(0, 0.5, 'MSE')"
      ]
     },
     "execution_count": 214,
     "metadata": {},
     "output_type": "execute_result"
    },
    {
     "data": {
      "image/png": "[encoded data removed]",
      "text/plain": [
       "<Figure size 432x288 with 1 Axes>"
      ]
     },
     "metadata": {
      "needs_background": "light"
     },
     "output_type": "display_data"
    }
   ],
   "source": [
    "# 10-fold CV, with shuffle\n",
    "kf_10 = KFold(n_splits=10, shuffle=False, random_state=1)\n",
    "\n",
    "mse = []\n",
    "\n",
    "for i in np.arange(1, 18):\n",
    "    pls = PLSRegression(n_components=i)\n",
    "    score = -1 * cross_val_score(pls, X_train, y_train, cv=kf_10, scoring='neg_mean_squared_error').mean()\n",
    "    mse.append(score)\n",
    "\n",
    "plt.plot(np.arange(1, 18), np.array(mse), '-v')\n",
    "plt.xlabel('Number of principal components in regression')\n",
    "plt.ylabel('MSE')"
   ]
  },
  {
   "cell_type": "code",
   "execution_count": 215,
   "metadata": {},
   "outputs": [
    {
     "data": {
      "text/plain": [
       "647912.4977131289"
      ]
     },
     "execution_count": 215,
     "metadata": {},
     "output_type": "execute_result"
    }
   ],
   "source": [
    "pls = PLSRegression(n_components=6)\n",
    "pls.fit(X_train, y_train)\n",
    "\n",
    "mean_squared_error(y_test, pls.predict(X_test))"
   ]
  },
  {
   "cell_type": "markdown",
   "metadata": {},
   "source": [
    "**Conclusion:** None of these methods the OLS Linear regression. In this case, nothing beats *simple*.  :)"
   ]
  }
 ],
 "metadata": {
  "kernelspec": {
   "display_name": "Python 3",
   "language": "python",
   "name": "python3"
  },
  "language_info": {
   "codemirror_mode": {
    "name": "ipython",
    "version": 3
   },
   "file_extension": ".py",
   "mimetype": "text/x-python",
   "name": "python",
   "nbconvert_exporter": "python",
   "pygments_lexer": "ipython3",
   "version": "3.7.1"
  }
 },
 "nbformat": 4,
 "nbformat_minor": 2
}
